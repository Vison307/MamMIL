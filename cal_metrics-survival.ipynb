{
 "cells": [
  {
   "cell_type": "code",
   "execution_count": 1,
   "metadata": {},
   "outputs": [],
   "source": [
    "import numpy as np\n",
    "\n",
    "import pandas as pd\n",
    "import os"
   ]
  },
  {
   "cell_type": "code",
   "execution_count": 2,
   "metadata": {},
   "outputs": [],
   "source": [
    "tasks = ['TCGA-LUAD_survival', 'TCGA-LUAD_survival-VIM', 'TCGA-LUAD_survival-VMAMBA']\n",
    "for task in tasks:\n",
    "    log_dir = os.path.join('logs/configs', task)\n",
    "    rng = range(5)\n",
    "\n",
    "    versions = os.listdir(log_dir)\n",
    "    for version in versions: # each method\n",
    "        if os.path.isfile(os.path.join(log_dir, version)):\n",
    "            continue\n",
    "        seed_rng = [1]\n",
    "        for seed in seed_rng:\n",
    "            c_index_list = []        \n",
    "            final_csv_path = os.path.join(log_dir, version, f's{seed}', 'result.csv')\n",
    "            f = open(final_csv_path, 'w')\n",
    "            f.write('fold,c_index\\n')\n",
    "            for fold in rng:\n",
    "                result_txt_path = os.path.join(log_dir, version, f's{seed}', f'fold{fold}', 'result.txt')\n",
    "                if not os.path.exists(result_txt_path):\n",
    "                    continue\n",
    "                result_str = open(result_txt_path, 'r').read()\n",
    "                c_index = float(result_str.split('\\n')[0].split(' ')[-1])\n",
    "\n",
    "                f.write(f'{fold},{c_index:.4f}\\n')\n",
    "\n",
    "                c_index_list.append(c_index)\n",
    "\n",
    "            mean_acc, std_acc = np.mean(c_index_list), np.std(c_index_list)\n",
    "        \n",
    "            f.write(f'mean±std,{mean_acc:.4f}±{std_acc:.4f}\\n')\n",
    "            f.close()\n",
    "            "
   ]
  },
  {
   "cell_type": "code",
   "execution_count": 3,
   "metadata": {},
   "outputs": [],
   "source": [
    "for task in tasks:\n",
    "    log_dir = os.path.join('logs/configs', task)\n",
    "\n",
    "    compare_result = open(os.path.join(log_dir, 'compare_result.csv'), 'w')\n",
    "    compare_result.write('method,c-index\\n')\n",
    "\n",
    "    versions = os.listdir(log_dir)\n",
    "    for version in versions: # each method\n",
    "        final_csv = os.path.join(log_dir, version, f's1/result.csv')\n",
    "        if not os.path.exists(final_csv): continue\n",
    "\n",
    "        with open(final_csv, 'r') as f:\n",
    "            lines = f.readlines()\n",
    "            result = lines[-1].split(',')\n",
    "        result[0] = version\n",
    "        result = ','.join(result)\n",
    "        compare_result.write(result)\n",
    "    compare_result.close()"
   ]
  },
  {
   "cell_type": "code",
   "execution_count": null,
   "metadata": {},
   "outputs": [],
   "source": []
  }
 ],
 "metadata": {
  "kernelspec": {
   "display_name": "Python 3 (ipykernel)",
   "language": "python",
   "name": "python3"
  },
  "language_info": {
   "codemirror_mode": {
    "name": "ipython",
    "version": 3
   },
   "file_extension": ".py",
   "mimetype": "text/x-python",
   "name": "python",
   "nbconvert_exporter": "python",
   "pygments_lexer": "ipython3",
   "version": "3.10.13"
  },
  "vscode": {
   "interpreter": {
    "hash": "d261071f1813c60f2ed13db15eeecf04071b1d09413c74905cbfb9af98a245b2"
   }
  }
 },
 "nbformat": 4,
 "nbformat_minor": 4
}
